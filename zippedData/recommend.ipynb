{
 "cells": [
  {
   "cell_type": "code",
   "execution_count": 85,
   "id": "aa493022",
   "metadata": {},
   "outputs": [],
   "source": [
    "import pandas as pd\n",
    "from matplotlib import pyplot as plt\n",
    "import seaborn as sns\n",
    "import pandas as pd\n",
    "import numpy as np\n"
   ]
  },
  {
   "cell_type": "code",
   "execution_count": 86,
   "id": "9ccac994",
   "metadata": {},
   "outputs": [
    {
     "data": {
      "text/html": [
       "<div>\n",
       "<style scoped>\n",
       "    .dataframe tbody tr th:only-of-type {\n",
       "        vertical-align: middle;\n",
       "    }\n",
       "\n",
       "    .dataframe tbody tr th {\n",
       "        vertical-align: top;\n",
       "    }\n",
       "\n",
       "    .dataframe thead th {\n",
       "        text-align: right;\n",
       "    }\n",
       "</style>\n",
       "<table border=\"1\" class=\"dataframe\">\n",
       "  <thead>\n",
       "    <tr style=\"text-align: right;\">\n",
       "      <th></th>\n",
       "      <th>Bond_Film_Series_Lead_Role_Daniel C.</th>\n",
       "      <th>Daniel_C._Bond_Series_Earnings</th>\n",
       "      <th>Worldwide_gross_Bond_Series</th>\n",
       "    </tr>\n",
       "  </thead>\n",
       "  <tbody>\n",
       "    <tr>\n",
       "      <th>0</th>\n",
       "      <td>Casino Royale</td>\n",
       "      <td>$3,200,000</td>\n",
       "      <td>$594,420,283</td>\n",
       "    </tr>\n",
       "    <tr>\n",
       "      <th>1</th>\n",
       "      <td>Quantum of Solace</td>\n",
       "      <td>$7,200,000</td>\n",
       "      <td>$591,692,078</td>\n",
       "    </tr>\n",
       "    <tr>\n",
       "      <th>2</th>\n",
       "      <td>Skyfall</td>\n",
       "      <td>$17,000,000</td>\n",
       "      <td>$1,110,526,981</td>\n",
       "    </tr>\n",
       "    <tr>\n",
       "      <th>3</th>\n",
       "      <td>Spectre</td>\n",
       "      <td>$30,000,000</td>\n",
       "      <td>$879,500,760</td>\n",
       "    </tr>\n",
       "    <tr>\n",
       "      <th>4</th>\n",
       "      <td>No Time to Die</td>\n",
       "      <td>$85,000,000</td>\n",
       "      <td>$760,839,661</td>\n",
       "    </tr>\n",
       "  </tbody>\n",
       "</table>\n",
       "</div>"
      ],
      "text/plain": [
       "  Bond_Film_Series_Lead_Role_Daniel C. Daniel_C._Bond_Series_Earnings  \\\n",
       "0                        Casino Royale                     $3,200,000   \n",
       "1                    Quantum of Solace                     $7,200,000   \n",
       "2                              Skyfall                    $17,000,000   \n",
       "3                              Spectre                    $30,000,000   \n",
       "4                       No Time to Die                    $85,000,000   \n",
       "\n",
       "  Worldwide_gross_Bond_Series  \n",
       "0                $594,420,283  \n",
       "1                $591,692,078  \n",
       "2              $1,110,526,981  \n",
       "3                $879,500,760  \n",
       "4                $760,839,661  "
      ]
     },
     "execution_count": 86,
     "metadata": {},
     "output_type": "execute_result"
    }
   ],
   "source": [
    "#researched google to obtain data and facts to engineer a dictinary and transform into a dataframe\n",
    "bond_series = {'Bond_Film_Series_Lead_Role_Daniel C.' : ['Casino Royale','Quantum of Solace', 'Skyfall','Spectre', 'No Time to Die'],\n",
    "    'Daniel_C._Bond_Series_Earnings' : ['$3,200,000', '$7,200,000', '$17,000,000', '$30,000,000', '$85,000,000'],\n",
    "    'Worldwide_gross_Bond_Series' : ['$594,420,283', '$591,692,078', '$1,110,526,981', '$879,500,760', '$760,839,661']\n",
    "              }\n",
    "bond_series = pd.DataFrame(bond_series)\n",
    "bond_series.head(5)"
   ]
  },
  {
   "cell_type": "code",
   "execution_count": 87,
   "id": "38837775",
   "metadata": {},
   "outputs": [
    {
     "data": {
      "text/html": [
       "<div>\n",
       "<style scoped>\n",
       "    .dataframe tbody tr th:only-of-type {\n",
       "        vertical-align: middle;\n",
       "    }\n",
       "\n",
       "    .dataframe tbody tr th {\n",
       "        vertical-align: top;\n",
       "    }\n",
       "\n",
       "    .dataframe thead th {\n",
       "        text-align: right;\n",
       "    }\n",
       "</style>\n",
       "<table border=\"1\" class=\"dataframe\">\n",
       "  <thead>\n",
       "    <tr style=\"text-align: right;\">\n",
       "      <th></th>\n",
       "      <th>Film_Series</th>\n",
       "      <th>Highest_Series_Gross_AllTime</th>\n",
       "      <th>Film_Distributors</th>\n",
       "      <th>Series Established</th>\n",
       "      <th>Number of Movies</th>\n",
       "      <th>Number of Books</th>\n",
       "      <th>Production_years</th>\n",
       "    </tr>\n",
       "  </thead>\n",
       "  <tbody>\n",
       "    <tr>\n",
       "      <th>0</th>\n",
       "      <td>Marvel Series</td>\n",
       "      <td>$22.6 Billion</td>\n",
       "      <td>Walt Disney</td>\n",
       "      <td>2008</td>\n",
       "      <td>12</td>\n",
       "      <td>64</td>\n",
       "      <td>14</td>\n",
       "    </tr>\n",
       "    <tr>\n",
       "      <th>1</th>\n",
       "      <td>Star Wars</td>\n",
       "      <td>$10.3 Billion</td>\n",
       "      <td>Walt Disney</td>\n",
       "      <td>1977</td>\n",
       "      <td>28</td>\n",
       "      <td>40</td>\n",
       "      <td>45</td>\n",
       "    </tr>\n",
       "    <tr>\n",
       "      <th>2</th>\n",
       "      <td>Harry Potter</td>\n",
       "      <td>$9.2 Billion</td>\n",
       "      <td>Warner Bros</td>\n",
       "      <td>2000</td>\n",
       "      <td>8</td>\n",
       "      <td>7</td>\n",
       "      <td>22</td>\n",
       "    </tr>\n",
       "    <tr>\n",
       "      <th>3</th>\n",
       "      <td>Spider-Man</td>\n",
       "      <td>$7.2 Billion</td>\n",
       "      <td>Sony Pictures</td>\n",
       "      <td>2002</td>\n",
       "      <td>9</td>\n",
       "      <td>575</td>\n",
       "      <td>20</td>\n",
       "    </tr>\n",
       "    <tr>\n",
       "      <th>4</th>\n",
       "      <td>James Bond</td>\n",
       "      <td>$7.1 Billion</td>\n",
       "      <td>Sony Pictures</td>\n",
       "      <td>1962</td>\n",
       "      <td>27</td>\n",
       "      <td>12</td>\n",
       "      <td>60</td>\n",
       "    </tr>\n",
       "  </tbody>\n",
       "</table>\n",
       "</div>"
      ],
      "text/plain": [
       "     Film_Series Highest_Series_Gross_AllTime Film_Distributors  \\\n",
       "0  Marvel Series                $22.6 Billion       Walt Disney   \n",
       "1      Star Wars                $10.3 Billion       Walt Disney   \n",
       "2   Harry Potter                 $9.2 Billion       Warner Bros   \n",
       "3     Spider-Man                 $7.2 Billion     Sony Pictures   \n",
       "4     James Bond                 $7.1 Billion     Sony Pictures   \n",
       "\n",
       "  Series Established Number of Movies Number of Books Production_years  \n",
       "0               2008               12              64               14  \n",
       "1               1977               28              40               45  \n",
       "2               2000                8               7               22  \n",
       "3               2002                9             575               20  \n",
       "4               1962               27              12               60  "
      ]
     },
     "execution_count": 87,
     "metadata": {},
     "output_type": "execute_result"
    }
   ],
   "source": [
    "#researched google to obtain data and facts to engineer a dictinary and transform into a dataframe\n",
    "highest_all_time = {\n",
    "    'Film_Series' : ['Marvel Series', 'Star Wars', 'Harry Potter', 'Spider-Man', 'James Bond'],\n",
    "    'Highest_Series_Gross_AllTime' :['$22.6 Billion', '$10.3 Billion','$9.2 Billion','$7.2 Billion','$7.1 Billion'],\n",
    "    'Film_Distributors' : ['Walt Disney', 'Walt Disney', 'Warner Bros', 'Sony Pictures', 'Sony Pictures'],\n",
    "    'Series Established' : ['2008', '1977', '2000', '2002', '1962'],\n",
    "    'Number of Movies' : ['12', '28', '8', '9', '27'],\n",
    "    'Number of Books' : ['64','40', '7','575', '12'],\n",
    "    'Production_years' : ['14', '45', '22', '20', '60']\n",
    "}\n",
    "\n",
    "highest_all_time = pd.DataFrame(highest_all_time)\n",
    "highest_all_time.head(5)"
   ]
  },
  {
   "cell_type": "code",
   "execution_count": 96,
   "id": "5260b7a3",
   "metadata": {
    "scrolled": true
   },
   "outputs": [
    {
     "data": {
      "text/html": [
       "<div>\n",
       "<style scoped>\n",
       "    .dataframe tbody tr th:only-of-type {\n",
       "        vertical-align: middle;\n",
       "    }\n",
       "\n",
       "    .dataframe tbody tr th {\n",
       "        vertical-align: top;\n",
       "    }\n",
       "\n",
       "    .dataframe thead th {\n",
       "        text-align: right;\n",
       "    }\n",
       "</style>\n",
       "<table border=\"1\" class=\"dataframe\">\n",
       "  <thead>\n",
       "    <tr style=\"text-align: right;\">\n",
       "      <th></th>\n",
       "      <th>Film_Series</th>\n",
       "      <th>Highest_Series_Gross_AllTime</th>\n",
       "      <th>Film_Distributors</th>\n",
       "      <th>Series Established</th>\n",
       "      <th>Number of Movies</th>\n",
       "      <th>Number of Books</th>\n",
       "      <th>Production_years</th>\n",
       "      <th>Movie_#</th>\n",
       "      <th>P_year</th>\n",
       "    </tr>\n",
       "  </thead>\n",
       "  <tbody>\n",
       "    <tr>\n",
       "      <th>0</th>\n",
       "      <td>Marvel Series</td>\n",
       "      <td>$22.6 Billion</td>\n",
       "      <td>Walt Disney</td>\n",
       "      <td>2008</td>\n",
       "      <td>12</td>\n",
       "      <td>64</td>\n",
       "      <td>14</td>\n",
       "      <td>12</td>\n",
       "      <td>14</td>\n",
       "    </tr>\n",
       "    <tr>\n",
       "      <th>1</th>\n",
       "      <td>Star Wars</td>\n",
       "      <td>$10.3 Billion</td>\n",
       "      <td>Walt Disney</td>\n",
       "      <td>1977</td>\n",
       "      <td>28</td>\n",
       "      <td>40</td>\n",
       "      <td>45</td>\n",
       "      <td>28</td>\n",
       "      <td>45</td>\n",
       "    </tr>\n",
       "    <tr>\n",
       "      <th>2</th>\n",
       "      <td>Harry Potter</td>\n",
       "      <td>$9.2 Billion</td>\n",
       "      <td>Warner Bros</td>\n",
       "      <td>2000</td>\n",
       "      <td>8</td>\n",
       "      <td>7</td>\n",
       "      <td>22</td>\n",
       "      <td>8</td>\n",
       "      <td>22</td>\n",
       "    </tr>\n",
       "    <tr>\n",
       "      <th>3</th>\n",
       "      <td>Spider-Man</td>\n",
       "      <td>$7.2 Billion</td>\n",
       "      <td>Sony Pictures</td>\n",
       "      <td>2002</td>\n",
       "      <td>9</td>\n",
       "      <td>575</td>\n",
       "      <td>20</td>\n",
       "      <td>9</td>\n",
       "      <td>20</td>\n",
       "    </tr>\n",
       "    <tr>\n",
       "      <th>4</th>\n",
       "      <td>James Bond</td>\n",
       "      <td>$7.1 Billion</td>\n",
       "      <td>Sony Pictures</td>\n",
       "      <td>1962</td>\n",
       "      <td>27</td>\n",
       "      <td>12</td>\n",
       "      <td>60</td>\n",
       "      <td>27</td>\n",
       "      <td>60</td>\n",
       "    </tr>\n",
       "  </tbody>\n",
       "</table>\n",
       "</div>"
      ],
      "text/plain": [
       "     Film_Series Highest_Series_Gross_AllTime Film_Distributors  \\\n",
       "0  Marvel Series                $22.6 Billion       Walt Disney   \n",
       "1      Star Wars                $10.3 Billion       Walt Disney   \n",
       "2   Harry Potter                 $9.2 Billion       Warner Bros   \n",
       "3     Spider-Man                 $7.2 Billion     Sony Pictures   \n",
       "4     James Bond                 $7.1 Billion     Sony Pictures   \n",
       "\n",
       "  Series Established Number of Movies Number of Books Production_years  \\\n",
       "0               2008               12              64               14   \n",
       "1               1977               28              40               45   \n",
       "2               2000                8               7               22   \n",
       "3               2002                9             575               20   \n",
       "4               1962               27              12               60   \n",
       "\n",
       "   Movie_#  P_year  \n",
       "0       12      14  \n",
       "1       28      45  \n",
       "2        8      22  \n",
       "3        9      20  \n",
       "4       27      60  "
      ]
     },
     "execution_count": 96,
     "metadata": {},
     "output_type": "execute_result"
    }
   ],
   "source": [
    "#Convert Number of movies to an int and created new column Movie #\n",
    "highest_all_time['Movie_#'] = highest_all_time['Number of Movies'].astype(np.int64)\n",
    "highest_all_time['P_year'] = highest_all_time['Production_years'].astype(np.int64)\n",
    "highest_all_time"
   ]
  },
  {
   "cell_type": "code",
   "execution_count": 97,
   "id": "28bbe985",
   "metadata": {},
   "outputs": [
    {
     "data": {
      "text/plain": [
       "32.2"
      ]
     },
     "execution_count": 97,
     "metadata": {},
     "output_type": "execute_result"
    }
   ],
   "source": [
    "# mean of how many production years \n",
    "Production_yr_mean = highest_all_time['P_year'].mean()\n",
    "Production_yr_mean"
   ]
  },
  {
   "cell_type": "code",
   "execution_count": 103,
   "id": "7d02bcc7",
   "metadata": {},
   "outputs": [
    {
     "data": {
      "text/plain": [
       "Text(-20, 120, 'Mean')"
      ]
     },
     "execution_count": 103,
     "metadata": {},
     "output_type": "execute_result"
    },
    {
     "data": {
      "image/png": "[encoded data removed]",
      "text/plain": [
       "<Figure size 432x288 with 1 Axes>"
      ]
     },
     "metadata": {
      "needs_background": "light"
     },
     "output_type": "display_data"
    }
   ],
   "source": [
    "#\n",
    "\n",
    "\n",
    "#bar plot \n",
    "highest_all_time.plot.bar(x='Film_Series', y='P_year', rot=0)\n",
    "plt.xlabel(\"Film Series\")\n",
    "plt.ylabel(\"Production_years\")\n",
    "plt.title(\"Production years per Film Series\")\n",
    "plt.legend(loc=\"upper left\")\n",
    "plt.axhline(y = Production_yr_mean, color = 'g')\n",
    "\n",
    "plt.annotate('Mean',\n",
    "            xy=(.1,0), xycoords='axes fraction',\n",
    "            xytext=(-20, 120), textcoords='offset pixels',\n",
    "            horizontalalignment='left',\n",
    "            verticalalignment='top')\n"
   ]
  },
  {
   "cell_type": "code",
   "execution_count": 93,
   "id": "2c65bb22",
   "metadata": {},
   "outputs": [
    {
     "data": {
      "text/plain": [
       "16.8"
      ]
     },
     "execution_count": 93,
     "metadata": {},
     "output_type": "execute_result"
    }
   ],
   "source": [
    "# mean of how many movies made \n",
    "Movie_M = highest_all_time['Movie_#'].mean()\n",
    "Movie_M\n",
    "\n"
   ]
  },
  {
   "cell_type": "code",
   "execution_count": 98,
   "id": "a0282bf9",
   "metadata": {},
   "outputs": [
    {
     "data": {
      "text/plain": [
       "Text(-20, 120, 'Mean')"
      ]
     },
     "execution_count": 98,
     "metadata": {},
     "output_type": "execute_result"
    },
    {
     "data": {
      "image/png": "[encoded data removed]",
      "text/plain": [
       "<Figure size 432x288 with 1 Axes>"
      ]
     },
     "metadata": {
      "needs_background": "light"
     },
     "output_type": "display_data"
    }
   ],
   "source": [
    "\n",
    "#bar plotg\n",
    "highest_all_time.plot.bar(x='Film_Series', y='Movie_#', rot=0)\n",
    "plt.xlabel(\"Film Series\")\n",
    "plt.ylabel(\"Number of Movies\")\n",
    "plt.title(\"Number of Movies per Film Series\")\n",
    "plt.legend(loc=\"upper left\")\n",
    "plt.axhline(y = Movie_M, color = 'g')\n",
    "\n",
    "plt.annotate('Mean',\n",
    "            xy=(.1,0), xycoords='axes fraction',\n",
    "            xytext=(-20, 120), textcoords='offset pixels',\n",
    "            horizontalalignment='left',\n",
    "            verticalalignment='top')\n",
    "\n"
   ]
  },
  {
   "cell_type": "code",
   "execution_count": null,
   "id": "9295c477",
   "metadata": {},
   "outputs": [],
   "source": []
  },
  {
   "cell_type": "code",
   "execution_count": null,
   "id": "8028b974",
   "metadata": {},
   "outputs": [],
   "source": [
    "#highest_all_time['Production Years'] = highest_all_time.loc[(highest_all_time['Series Established']) - \" \" - '2022' ]"
   ]
  },
  {
   "cell_type": "code",
   "execution_count": null,
   "id": "c167d7be",
   "metadata": {},
   "outputs": [],
   "source": []
  },
  {
   "cell_type": "code",
   "execution_count": null,
   "id": "374cdae2",
   "metadata": {},
   "outputs": [],
   "source": []
  },
  {
   "cell_type": "code",
   "execution_count": null,
   "id": "a11e3e6c",
   "metadata": {},
   "outputs": [],
   "source": []
  },
  {
   "cell_type": "code",
   "execution_count": null,
   "id": "f13a1b39",
   "metadata": {},
   "outputs": [],
   "source": []
  }
 ],
 "metadata": {
  "kernelspec": {
   "display_name": "Python 3 (ipykernel)",
   "language": "python",
   "name": "python3"
  },
  "language_info": {
   "codemirror_mode": {
    "name": "ipython",
    "version": 3
   },
   "file_extension": ".py",
   "mimetype": "text/x-python",
   "name": "python",
   "nbconvert_exporter": "python",
   "pygments_lexer": "ipython3",
   "version": "3.9.12"
  }
 },
 "nbformat": 4,
 "nbformat_minor": 5
}
